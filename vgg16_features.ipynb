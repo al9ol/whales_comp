{
 "cells": [
  {
   "cell_type": "code",
   "execution_count": null,
   "metadata": {
    "colab": {
     "base_uri": "https://localhost:8080/",
     "height": 34
    },
    "colab_type": "code",
    "executionInfo": {
     "elapsed": 2374,
     "status": "ok",
     "timestamp": 1546762984294,
     "user": {
      "displayName": "Александр Голиков",
      "photoUrl": "",
      "userId": "02783561430874739355"
     },
     "user_tz": -240
    },
    "id": "Pucz0Knr92PM",
    "outputId": "3bfcb3b7-19bd-4144-cccb-17ea397a71b4"
   },
   "outputs": [],
   "source": [
    "import keras \n",
    "\n",
    "import numpy as np\n",
    "import pandas as pd\n",
    "from sklearn import model_selection, preprocessing\n",
    "\n",
    "import cv2\n",
    "import matplotlib.pyplot as plt\n",
    "import seaborn as sns\n",
    "\n",
    "%matplotlib inline"
   ]
  },
  {
   "cell_type": "code",
   "execution_count": null,
   "metadata": {
    "colab": {
     "base_uri": "https://localhost:8080/",
     "height": 34
    },
    "colab_type": "code",
    "executionInfo": {
     "elapsed": 19517,
     "status": "ok",
     "timestamp": 1546763018223,
     "user": {
      "displayName": "Александр Голиков",
      "photoUrl": "",
      "userId": "02783561430874739355"
     },
     "user_tz": -240
    },
    "id": "8qiBSvLuOFHe",
    "outputId": "25287702-fe89-46e7-dd4c-cfb960aa63a2"
   },
   "outputs": [],
   "source": [
    "# mount your gdrive to colab instance\n",
    "from google.colab import drive\n",
    "drive.mount('/content')"
   ]
  },
  {
   "cell_type": "code",
   "execution_count": null,
   "metadata": {},
   "outputs": [],
   "source": [
    "# copy kaggle credentials json\n",
    "!mkdir /root/.kaggle\n",
    "!cp \"/content/My Drive/kaggle.json\" /root/.kaggle"
   ]
  },
  {
   "cell_type": "markdown",
   "metadata": {
    "colab_type": "text",
    "id": "jZp_W-hdA6Kv"
   },
   "source": [
    "Download the data from Kaggle \"__Humpback Whale Identification Challenge__\""
   ]
  },
  {
   "cell_type": "code",
   "execution_count": null,
   "metadata": {
    "colab": {
     "base_uri": "https://localhost:8080/",
     "height": 225
    },
    "colab_type": "code",
    "executionInfo": {
     "elapsed": 14627,
     "status": "ok",
     "timestamp": 1546763042441,
     "user": {
      "displayName": "Александр Голиков",
      "photoUrl": "",
      "userId": "02783561430874739355"
     },
     "user_tz": -240
    },
    "id": "gPEVd-mlBAq-",
    "outputId": "88e76a15-2743-4ca9-efe0-57453eccc968"
   },
   "outputs": [],
   "source": [
    "!kaggle competitions download -c whale-categorization-playground\n",
    "!unzip train.zip -d data\n",
    "!unzip test.zip -d data\n",
    "!ls data"
   ]
  },
  {
   "cell_type": "code",
   "execution_count": null,
   "metadata": {
    "colab": {
     "base_uri": "https://localhost:8080/",
     "height": 296
    },
    "colab_type": "code",
    "executionInfo": {
     "elapsed": 4068,
     "status": "ok",
     "timestamp": 1546763155652,
     "user": {
      "displayName": "Александр Голиков",
      "photoUrl": "",
      "userId": "02783561430874739355"
     },
     "user_tz": -240
    },
    "id": "4B2sREKzR1c_",
    "outputId": "1bbc8469-a3ad-4271-cda5-8bb79d86a372"
   },
   "outputs": [],
   "source": [
    "# reading data\n",
    "df = pd.read_csv(\"train.csv\")\n",
    "\n",
    "# encode labels\n",
    "label_encoder = preprocessing.LabelEncoder()\n",
    "label_encoder.fit_transform(df.Id)\n",
    "\n",
    "labels = label_encoder.transform(df[\"Id\"].values)\n",
    "\n",
    "one_hot_encoder = preprocessing.OneHotEncoder()\n",
    "\n",
    "labels = one_hot_encoder.fit_transform(labels.reshape(-1, 1))\\\n",
    "                        .toarray()\\\n",
    "                        .tolist()\n",
    "\n",
    "df[\"Labels\"] = [np.array(l) for l in labels]\n",
    "\n",
    "df.head()"
   ]
  },
  {
   "cell_type": "code",
   "execution_count": null,
   "metadata": {
    "colab": {},
    "colab_type": "code",
    "id": "VDhzH1UOT7jI"
   },
   "outputs": [],
   "source": [
    "from keras.applications import VGG16\n",
    "from keras import models, layers\n",
    "from keras.preprocessing.image import ImageDataGenerator\n",
    "from keras.metrics import \\\n",
    "  categorical_accuracy as cat_acc,\\\n",
    "  top_k_categorical_accuracy,\\\n",
    "  categorical_crossentropy\n",
    "\n",
    "# competition metric\n",
    "def top_5_acc(y_true, y_pred):\n",
    "    return top_k_categorical_accuracy(y_true, y_pred, k=5)\n",
    "\n",
    "# data generator\n",
    "data_gen = ImageDataGenerator(\n",
    "      rescale=1./255,\n",
    "      rotation_range=20,\n",
    "      width_shift_range=0.2,\n",
    "      height_shift_range=0.2,\n",
    "      fill_mode='nearest')\n",
    "\n",
    "train_gen = data_gen.flow_from_dataframe(\n",
    "    df, \n",
    "    \"data/train\", \n",
    "    x_col=\"Image\", \n",
    "    y_col=\"Id\",\n",
    "    target_size=(256, 256), \n",
    "    color_mode=\"rgb\", \n",
    "    class_mode=\"categorical\", \n",
    "    batch_size=32, \n",
    "    shuffle=True)"
   ]
  },
  {
   "cell_type": "code",
   "execution_count": null,
   "metadata": {
    "colab": {
     "base_uri": "https://localhost:8080/",
     "height": 3369
    },
    "colab_type": "code",
    "executionInfo": {
     "elapsed": 6134,
     "status": "ok",
     "timestamp": 1546763197856,
     "user": {
      "displayName": "Александр Голиков",
      "photoUrl": "",
      "userId": "02783561430874739355"
     },
     "user_tz": -240
    },
    "id": "TaFn0dOjeX-x",
    "outputId": "1ba8110e-e534-45a7-e5c9-bbcf0a135ab4"
   },
   "outputs": [],
   "source": [
    "# create model\n",
    "features = VGG16(input_shape=(256, 256, 3),\n",
    "                       include_top=False)\n",
    "\n",
    "model = models.Sequential()\n",
    "\n",
    "for layer in features.layers:\n",
    "  model.add(layer)\n",
    "\n",
    "model.add(layers.Flatten())\n",
    "model.add(layers.Dense(64))\n",
    "model.add(layers.BatchNormalization())\n",
    "model.add(layers.ReLU())\n",
    "model.add(layers.Dense(128))\n",
    "model.add(layers.BatchNormalization())\n",
    "model.add(layers.ReLU())\n",
    "model.add(layers.Dropout(0.625))\n",
    "model.add(layers.Dense(len(one_hot_encoder.categories_[0]), \n",
    "                       activation='softmax'))\n",
    "\n",
    "# Compile the model\n",
    "model.compile(loss='categorical_crossentropy',\n",
    "              optimizer=keras.optimizers.Nadam(),\n",
    "              metrics=['acc', top_5_acc])\n",
    "\n",
    "model.summary()"
   ]
  },
  {
   "cell_type": "code",
   "execution_count": null,
   "metadata": {
    "colab": {
     "base_uri": "https://localhost:8080/",
     "height": 3490
    },
    "colab_type": "code",
    "executionInfo": {
     "elapsed": 25113756,
     "status": "ok",
     "timestamp": 1546788323771,
     "user": {
      "displayName": "Александр Голиков",
      "photoUrl": "",
      "userId": "02783561430874739355"
     },
     "user_tz": -240
    },
    "id": "1qHenE5xDp91",
    "outputId": "3afcd697-9670-44ec-fba3-0ea319c7921e"
   },
   "outputs": [],
   "source": [
    "# Train the model\n",
    "history = model.fit_generator(\n",
    "    train_gen,\n",
    "    steps_per_epoch=train_gen.samples/train_gen.batch_size,\n",
    "    epochs=100,\n",
    "    verbose=1)"
   ]
  },
  {
   "cell_type": "code",
   "execution_count": null,
   "metadata": {
    "colab": {
     "base_uri": "https://localhost:8080/",
     "height": 543
    },
    "colab_type": "code",
    "executionInfo": {
     "elapsed": 763,
     "status": "ok",
     "timestamp": 1546793966501,
     "user": {
      "displayName": "Александр Голиков",
      "photoUrl": "",
      "userId": "02783561430874739355"
     },
     "user_tz": -240
    },
    "id": "PsHFH16Dj5kl",
    "outputId": "d0c3940e-f95a-4d8c-ca60-46d19a019548"
   },
   "outputs": [],
   "source": [
    "acc = history.history['acc']\n",
    "val_acc = history.history['top_5_acc']\n",
    "loss = history.history['loss']\n",
    " \n",
    "epochs = range(len(acc))\n",
    " \n",
    "plt.plot(epochs, acc, 'b', label='Training acc')\n",
    "plt.title('Training and validation accuracy')\n",
    "plt.legend()\n",
    " \n",
    "plt.figure()\n",
    " \n",
    "plt.plot(epochs, loss, 'b', label='Training loss')\n",
    "plt.title('Training and validation loss')\n",
    "plt.legend()\n",
    " \n",
    "plt.show()"
   ]
  },
  {
   "cell_type": "code",
   "execution_count": null,
   "metadata": {
    "colab": {},
    "colab_type": "code",
    "id": "Gmdd9fecGisH"
   },
   "outputs": [],
   "source": []
  }
 ],
 "metadata": {
  "accelerator": "GPU",
  "colab": {
   "collapsed_sections": [],
   "name": "kaggle_whale_identification.ipynb",
   "provenance": [],
   "version": "0.3.2"
  },
  "kernelspec": {
   "display_name": "Python 3",
   "language": "python",
   "name": "python3"
  },
  "language_info": {
   "codemirror_mode": {
    "name": "ipython",
    "version": 3
   },
   "file_extension": ".py",
   "mimetype": "text/x-python",
   "name": "python",
   "nbconvert_exporter": "python",
   "pygments_lexer": "ipython3",
   "version": "3.6.7"
  }
 },
 "nbformat": 4,
 "nbformat_minor": 1
}
