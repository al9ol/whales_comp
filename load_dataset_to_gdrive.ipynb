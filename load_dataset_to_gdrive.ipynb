{
 "cells": [
  {
   "cell_type": "code",
   "execution_count": 0,
   "metadata": {
    "colab": {
     "base_uri": "https://localhost:8080/",
     "height": 260
    },
    "colab_type": "code",
    "id": "ZtqmiAvJ949Q",
    "outputId": "7b8ac0a4-35f8-48dd-974b-ee77b9e7c0ad"
   },
   "outputs": [
    {
     "name": "stdout",
     "output_type": "stream",
     "text": [
      "Drive already mounted at /content/drive; to attempt to forcibly remount, call drive.mount(\"/content/drive\", force_remount=True).\n",
      "Downloading sample_submission.csv to /content\n",
      "  0% 0.00/960k [00:00<?, ?B/s]\n",
      "100% 960k/960k [00:00<00:00, 31.3MB/s]\n",
      "Downloading train.csv to /content\n",
      "  0% 0.00/221k [00:00<?, ?B/s]\n",
      "100% 221k/221k [00:00<00:00, 72.5MB/s]\n",
      "Downloading test.zip to /content\n",
      " 97% 392M/405M [00:03<00:00, 81.3MB/s]\n",
      "100% 405M/405M [00:03<00:00, 136MB/s] \n",
      "Downloading train.zip to /content\n",
      " 97% 253M/260M [00:02<00:00, 101MB/s] \n",
      "100% 260M/260M [00:02<00:00, 104MB/s]\n",
      "sample_submission.csv  test  train  train.csv\n"
     ]
    }
   ],
   "source": [
    "# mount your gdrive to colab instance\n",
    "from google.colab import drive\n",
    "drive.mount('/content/drive')\n",
    "\n",
    "# copy kaggle credentials json\n",
    "!mkdir /root/.kaggle\n",
    "!cp \"/content/drive/My Drive/whales/kaggle.json\" /root/.kaggle\n",
    "\n",
    "# copy dataset\n",
    "!kaggle competitions download -c humpback-whale-identification\n",
    "\n",
    "# unzipping\n",
    "!mkdir -p /content/data\n",
    "!cp sample_submission.csv train.csv /content/data\n",
    "\n",
    "!unzip -q train.zip -d /content/data\n",
    "!unzip -q test.zip -d /content/data\n",
    "\n",
    "# checking\n",
    "!ls /content/data"
   ]
  },
  {
   "cell_type": "code",
   "execution_count": 0,
   "metadata": {
    "colab": {},
    "colab_type": "code",
    "id": "8mET2d3t_y2Y"
   },
   "outputs": [],
   "source": []
  }
 ],
 "metadata": {
  "accelerator": "GPU",
  "colab": {
   "name": "Copy of load_dataset_to_gdrive.ipynb",
   "provenance": [],
   "version": "0.3.2"
  },
  "kernelspec": {
   "display_name": "Python 3",
   "language": "python",
   "name": "python3"
  },
  "language_info": {
   "codemirror_mode": {
    "name": "ipython",
    "version": 3
   },
   "file_extension": ".py",
   "mimetype": "text/x-python",
   "name": "python",
   "nbconvert_exporter": "python",
   "pygments_lexer": "ipython3",
   "version": "3.6.7"
  }
 },
 "nbformat": 4,
 "nbformat_minor": 1
}
