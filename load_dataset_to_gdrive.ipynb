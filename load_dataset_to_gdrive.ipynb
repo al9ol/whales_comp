{
 "cells": [
  {
   "cell_type": "code",
   "execution_count": null,
   "metadata": {
    "collapsed": true
   },
   "outputs": [],
   "source": [
    "# mount your gdrive to colab instance\n",
    "from google.colab import drive\n",
    "drive.mount('/content/drive')\n",
    "\n",
    "# copy kaggle credentials json\n",
    "!mkdir /root/.kaggle\n",
    "!cp \"/content/My Drive/whales/kaggle.json\" /root/.kaggle\n",
    "\n",
    "# copy dataset\n",
    "!kaggle competitions download -c whale-categorization-playground\n",
    "\n",
    "# unzipping\n",
    "!mkdir -p \"/content/drive/My Drive/whales/\"\n",
    "!cp sample_submission.csv train.csv /content/data\n",
    "!unzip train.zip -d /content/data\n",
    "!unzip test.zip -d /content/data\n",
    "\n",
    "# checking\n",
    "!ls /content/data"
   ]
  }
 ],
 "metadata": {
  "kernelspec": {
   "display_name": "Python 3",
   "language": "python",
   "name": "python3"
  },
  "language_info": {
   "codemirror_mode": {
    "name": "ipython",
    "version": 3
   },
   "file_extension": ".py",
   "mimetype": "text/x-python",
   "name": "python",
   "nbconvert_exporter": "python",
   "pygments_lexer": "ipython3",
   "version": "3.6.7"
  }
 },
 "nbformat": 4,
 "nbformat_minor": 1
}
