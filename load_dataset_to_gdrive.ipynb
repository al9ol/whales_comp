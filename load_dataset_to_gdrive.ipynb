{
 "cells": [
  {
   "cell_type": "code",
   "execution_count": null,
   "metadata": {
    "collapsed": true
   },
   "outputs": [],
   "source": [
    "# mount your gdrive to colab instance\n",
    "from google.colab import drive\n",
    "drive.mount('/content/drive')"
   ]
  },
  {
   "cell_type": "code",
   "execution_count": null,
   "metadata": {},
   "outputs": [],
   "source": [
    "# copy kaggle credentials json\n",
    "!mkdir /root/.kaggle\n",
    "!cp \"/content/drive/My Drive/kaggle.json\" /root/.kaggle"
   ]
  },
  {
   "cell_type": "code",
   "execution_count": null,
   "metadata": {},
   "outputs": [],
   "source": [
    "# copy dataset\n",
    "!kaggle competitions download -c whale-categorization-playground\n",
    "# unzipping\n",
    "!mkdir -p \"/content/drive/My Drive/whales/\"\n",
    "!unzip train.zip -d \"/content/drive/My Drive/whales/\"\n",
    "!unzip test.zip -d \"/content/drive/My Drive/whales/\"\n",
    "# checking\n",
    "!ls data"
   ]
  }
 ],
 "metadata": {
  "kernelspec": {
   "display_name": "Python 3",
   "language": "python",
   "name": "python3"
  },
  "language_info": {
   "codemirror_mode": {
    "name": "ipython",
    "version": 3
   },
   "file_extension": ".py",
   "mimetype": "text/x-python",
   "name": "python",
   "nbconvert_exporter": "python",
   "pygments_lexer": "ipython3",
   "version": "3.6.7"
  }
 },
 "nbformat": 4,
 "nbformat_minor": 1
}
