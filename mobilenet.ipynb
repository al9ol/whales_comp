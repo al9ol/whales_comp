{
 "cells": [
  {
   "cell_type": "code",
   "execution_count": null,
   "metadata": {
    "colab": {
     "base_uri": "https://localhost:8080/",
     "height": 34
    },
    "colab_type": "code",
    "executionInfo": {
     "elapsed": 2374,
     "status": "ok",
     "timestamp": 1546762984294,
     "user": {
      "displayName": "Александр Голиков",
      "photoUrl": "",
      "userId": "02783561430874739355"
     },
     "user_tz": -240
    },
    "id": "Pucz0Knr92PM",
    "outputId": "3bfcb3b7-19bd-4144-cccb-17ea397a71b4"
   },
   "outputs": [],
   "source": [
    "import os\n",
    "\n",
    "import numpy as np\n",
    "import pandas as pd\n",
    "\n",
    "import keras \n",
    "from sklearn import preprocessing\n",
    "\n",
    "import matplotlib.pyplot as plt\n",
    "\n",
    "%matplotlib inline"
   ]
  },
  {
   "cell_type": "code",
   "execution_count": null,
   "metadata": {},
   "outputs": [],
   "source": [
    "# set paths\n",
    "PATH_TO_MY_DRIVE = \"/content/drive/My\\ Drive\"\n",
    "PATH_TO_DATA_COLAB = \"/content/data\"\n",
    "\n",
    "MODEL_NAME = \"mobilenet\"\n",
    "\n",
    "PATH_TO_MODEL_DATA_COLAB = os.path.join(PATH_TO_DATA_COLAB, MODEL_NAME)\n",
    "os.makedirs(PATH_TO_MODEL_DATA_COLAB, exist_ok=True)\n",
    "\n",
    "PATH_TO_CHECKPOINTS_COLAB = os.path.join(PATH_TO_MODEL_DATA_COLAB, \"checkpoints\")\n",
    "os.makedirs(PATH_TO_CHECKPOINTS_COLAB, exist_ok=True)\n",
    "\n",
    "PATH_TO_MODEL_DATA_ON_MY_DRIVE = os.path.join(PATH_TO_MY_DRIVE + \"/whales\", MODEL_NAME)\n",
    "PATH_TO_CHECKPOINTS_ON_MY_DRIVE = os.path.join(PATH_TO_MODEL_DATA_ON_MY_DRIVE, \"checkpoints\")"
   ]
  },
  {
   "cell_type": "code",
   "execution_count": null,
   "metadata": {
    "colab": {
     "base_uri": "https://localhost:8080/",
     "height": 296
    },
    "colab_type": "code",
    "executionInfo": {
     "elapsed": 4068,
     "status": "ok",
     "timestamp": 1546763155652,
     "user": {
      "displayName": "Александр Голиков",
      "photoUrl": "",
      "userId": "02783561430874739355"
     },
     "user_tz": -240
    },
    "id": "4B2sREKzR1c_",
    "outputId": "1bbc8469-a3ad-4271-cda5-8bb79d86a372"
   },
   "outputs": [],
   "source": [
    "# reading data\n",
    "df = pd.read_csv(os.path.join(PATH_TO_DATA_COLAB, \"train.csv\"))\n",
    "\n",
    "# encode labels\n",
    "label_encoder = preprocessing.LabelEncoder()\n",
    "label_encoder.fit_transform(df.Id)\n",
    "\n",
    "labels = label_encoder.transform(df[\"Id\"].values)\n",
    "\n",
    "one_hot_encoder = preprocessing.OneHotEncoder(sparse=False)\n",
    "\n",
    "labels = one_hot_encoder.fit_transform(labels.reshape(-1, 1)).tolist()\n",
    "\n",
    "df[\"Labels\"] = [np.array(l) for l in labels]\n",
    "\n",
    "df.head()"
   ]
  },
  {
   "cell_type": "code",
   "execution_count": null,
   "metadata": {
    "colab": {},
    "colab_type": "code",
    "id": "VDhzH1UOT7jI"
   },
   "outputs": [],
   "source": [
    "from keras.applications import MobileNet\n",
    "from keras import models\n",
    "from keras.callbacks import \\\n",
    "    ReduceLROnPlateau, \\\n",
    "    EarlyStopping, \\\n",
    "    ModelCheckpoint, \\\n",
    "    TensorBoard\n",
    "from keras.preprocessing.image import ImageDataGenerator\n",
    "from keras.metrics import \\\n",
    "  categorical_accuracy as cat_acc,\\\n",
    "  top_k_categorical_accuracy,\\\n",
    "  categorical_crossentropy\n",
    "\n",
    "# competition metric\n",
    "def top_5_acc(y_true, y_pred):\n",
    "    return top_k_categorical_accuracy(y_true, y_pred, k=5)\n",
    "\n",
    "# train data generator\n",
    "train_data_gen = ImageDataGenerator(\n",
    "      rescale=1./255,\n",
    "      rotation_range=20,\n",
    "      width_shift_range=0.2,\n",
    "      height_shift_range=0.2,\n",
    "      fill_mode=\"nearest\")\n",
    "\n",
    "train_gen = train_data_gen.flow_from_dataframe(\n",
    "    df, \n",
    "    os.path.join(PATH_TO_DATA_COLAB, \"train\"), \n",
    "    x_col=\"Image\", \n",
    "    y_col=\"Id\",\n",
    "    target_size=(256, 256), \n",
    "    color_mode=\"rgb\", \n",
    "    class_mode=\"categorical\", \n",
    "    batch_size=32, \n",
    "    shuffle=True)\n",
    "\n",
    "# callbacks\n",
    "reduce_lr_callback = ReduceLROnPlateau(\n",
    "    monitor=\"loss\", \n",
    "    mode=\"min\",\n",
    "    factor=0.2,\n",
    "    patience=10, \n",
    "    verbose=1,\n",
    "    min_lr=1e-5)\n",
    "\n",
    "early_stopping_callback = EarlyStopping(\n",
    "    monitor=\"loss\", \n",
    "    mode=\"min\",\n",
    "    patience=10, \n",
    "    verbose=1, \n",
    "    restore_best_weights=True)\n",
    "\n",
    "checkpoint_callback = ModelCheckpoint(\n",
    "    os.path.join(PATH_TO_CHECKPOINTS_COLAB, MODEL_NAME + \"_{epoch:02d}_{loss:.2f}.hdf5\"), \n",
    "    monitor=\"loss\", \n",
    "    mode=\"min\",\n",
    "    verbose=1, \n",
    "    save_best_only=True, \n",
    "    period=5)\n",
    "\n",
    "tensorbard_callbacks = TensorBoard(\n",
    "    log_dir=\"./logs\", \n",
    "    batch_size=32)"
   ]
  },
  {
   "cell_type": "code",
   "execution_count": null,
   "metadata": {
    "colab": {
     "base_uri": "https://localhost:8080/",
     "height": 3369
    },
    "colab_type": "code",
    "executionInfo": {
     "elapsed": 6134,
     "status": "ok",
     "timestamp": 1546763197856,
     "user": {
      "displayName": "Александр Голиков",
      "photoUrl": "",
      "userId": "02783561430874739355"
     },
     "user_tz": -240
    },
    "id": "TaFn0dOjeX-x",
    "outputId": "1ba8110e-e534-45a7-e5c9-bbcf0a135ab4"
   },
   "outputs": [],
   "source": [
    "# create model\n",
    "model = MobileNet(input_shape=(256, 256, 3), \n",
    "                  alpha=1., \n",
    "                  weights=None, \n",
    "                  classes=len(one_hot_encoder.categories_[0]))\n",
    "\n",
    "# Compile the model\n",
    "model.compile(loss=\"categorical_crossentropy\",\n",
    "              optimizer=keras.optimizers.Nadam(),\n",
    "              metrics=[\"acc\", top_5_acc])\n",
    "\n",
    "model.summary()"
   ]
  },
  {
   "cell_type": "code",
   "execution_count": null,
   "metadata": {
    "colab": {
     "base_uri": "https://localhost:8080/",
     "height": 3490
    },
    "colab_type": "code",
    "executionInfo": {
     "elapsed": 25113756,
     "status": "ok",
     "timestamp": 1546788323771,
     "user": {
      "displayName": "Александр Голиков",
      "photoUrl": "",
      "userId": "02783561430874739355"
     },
     "user_tz": -240
    },
    "id": "1qHenE5xDp91",
    "outputId": "3afcd697-9670-44ec-fba3-0ea319c7921e"
   },
   "outputs": [],
   "source": [
    "# Train the model\n",
    "history = model.fit_generator(\n",
    "    train_gen,\n",
    "    steps_per_epoch=train_gen.samples / train_gen.batch_size,\n",
    "    epochs=100,\n",
    "    verbose=1,\n",
    "    callbacks=[reduce_lr_callback,\n",
    "               early_stopping_callback, \n",
    "               checkpoint_callback, \n",
    "               tensorbard_callbacks])"
   ]
  },
  {
   "cell_type": "code",
   "execution_count": null,
   "metadata": {
    "colab": {
     "base_uri": "https://localhost:8080/",
     "height": 543
    },
    "colab_type": "code",
    "executionInfo": {
     "elapsed": 763,
     "status": "ok",
     "timestamp": 1546793966501,
     "user": {
      "displayName": "Александр Голиков",
      "photoUrl": "",
      "userId": "02783561430874739355"
     },
     "user_tz": -240
    },
    "id": "PsHFH16Dj5kl",
    "outputId": "d0c3940e-f95a-4d8c-ca60-46d19a019548"
   },
   "outputs": [],
   "source": [
    "acc = history.history[\"acc\"]\n",
    "val_acc = history.history[\"top_5_acc\"]\n",
    "loss = history.history[\"loss\"]\n",
    " \n",
    "epochs = range(len(acc))\n",
    " \n",
    "plt.plot(epochs, acc, \"b\", label=\"Training acc\")\n",
    "plt.title(\"Training and validation accuracy\")\n",
    "plt.legend()\n",
    " \n",
    "plt.figure()\n",
    " \n",
    "plt.plot(epochs, loss, \"b\", label=\"Training loss\")\n",
    "plt.title(\"Training and validation loss\")\n",
    "plt.legend()\n",
    " \n",
    "plt.show()"
   ]
  },
  {
   "cell_type": "code",
   "execution_count": null,
   "metadata": {
    "colab": {},
    "colab_type": "code",
    "id": "Gmdd9fecGisH"
   },
   "outputs": [],
   "source": [
    "# read test data\n",
    "test = os.listdir(os.path.join(PATH_TO_DATA_COLAB, \"test\"))\n",
    "print(\"Number of test samples: {}\".format(len(test)))\n",
    "\n",
    "# dataframe with empty predictions\n",
    "test_df = pd.DataFrame(test, columns=[\"Image\"])\n",
    "test_df[\"Id\"] = \"\"\n",
    "\n",
    "# test data generator\n",
    "test_data_gen = ImageDataGenerator(rescale=1./255)\n",
    "\n",
    "test_gen = test_data_gen.flow_from_dataframe(\n",
    "    test_df, \n",
    "    os.path.join(PATH_TO_DATA_COLAB, \"test\"), \n",
    "    x_col=\"Image\", \n",
    "    target_size=(256, 256), \n",
    "    color_mode=\"rgb\", \n",
    "    class_mode=None, \n",
    "    batch_size=128,\n",
    "    shuffle=False)\n",
    "\n",
    "# predictions\n",
    "predictions = model.predict_generator(\n",
    "    test_gen,\n",
    "    steps=test_gen.samples / test_gen.batch_size,\n",
    "    verbose=True)\n",
    "\n",
    "# write a submission\n",
    "for i, pred in enumerate(predictions):\n",
    "    test_df.loc[i, \"Id\"] = \" \".join(label_encoder.inverse_transform(pred.argsort()[-5:][::-1]))\n",
    "\n",
    "test_df.to_csv(os.path.join(PATH_TO_MODEL_DATA_COLAB, \"submission.csv\"), index=False)"
   ]
  },
  {
   "cell_type": "code",
   "execution_count": null,
   "metadata": {},
   "outputs": [],
   "source": [
    "# upload data to google drive\n",
    "!cp -r $PATH_TO_MODEL_DATA_COLAB $PATH_TO_MODEL_DATA_ON_MY_DRIVE"
   ]
  }
 ],
 "metadata": {
  "accelerator": "GPU",
  "colab": {
   "collapsed_sections": [],
   "name": "kaggle_whale_identification.ipynb",
   "provenance": [],
   "version": "0.3.2"
  },
  "kernelspec": {
   "display_name": "Python 3",
   "language": "python",
   "name": "python3"
  },
  "language_info": {
   "codemirror_mode": {
    "name": "ipython",
    "version": 3
   },
   "file_extension": ".py",
   "mimetype": "text/x-python",
   "name": "python",
   "nbconvert_exporter": "python",
   "pygments_lexer": "ipython3",
   "version": "3.6.7"
  }
 },
 "nbformat": 4,
 "nbformat_minor": 1
}
